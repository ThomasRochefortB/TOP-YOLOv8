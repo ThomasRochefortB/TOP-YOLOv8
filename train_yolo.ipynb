{
 "cells": [
  {
   "cell_type": "code",
   "execution_count": null,
   "metadata": {},
   "outputs": [],
   "source": [
    "from ultralytics import YOLO\n",
    "model = YOLO('yolov8n-segreg-p2.yaml')"
   ]
  },
  {
   "cell_type": "code",
   "execution_count": null,
   "metadata": {},
   "outputs": [],
   "source": [
    "model.train(data = '/home/thomas/Documents/GitHub/ultralytics-custom/ultralytics/dataset_nov26/data.yaml', \n",
    "            mosaic = 0.0,\n",
    "            hsv_h= 0.5,  # (float) image HSV-Hue augmentation (fraction)\n",
    "            hsv_s= 0.5,  # (float) image HSV-Saturation augmentation (fraction)\n",
    "            hsv_v= 0.5,  # (float) image HSV-Value augmentation (fraction)\n",
    "            degrees= 25.0,  # (float) image rotation (+/- deg)\n",
    "            translate= 0.2,  # (float) image translation (+/- fraction)\n",
    "            scale= 0.75,  # (float) image scale (+/- gain)\n",
    "            shear= 10.0,  # (float) image shear (+/- deg)\n",
    "            perspective= 0.001,  # (float) image perspective (+/- fraction), range 0-0.001\n",
    "            flipud= 0.5,  # (float) image flip up-down (probability)\n",
    "            fliplr= 0.5,\n",
    "            epochs=100, \n",
    "            batch=4,\n",
    "            reg_gain = 1.0,\n",
    "            amp = False,\n",
    "            warmup_epochs=0,\n",
    "            imgsz=int(640),\n",
    "            workers=12,\n",
    "            lr0=3e-4,\n",
    "            cos_lr = True,\n",
    "            single_cls=True,\n",
    "            rect=True,\n",
    "            overlap_mask=False,\n",
    "            mask_ratio=4,\n",
    "            #freeze=5,\n",
    "            #fraction=0.005,\n",
    "            optimizer = \"AdamW\",\n",
    "            pretrained=False,\n",
    "            patience=10,\n",
    "            weight_decay=1e-2, \n",
    "            val=True,\n",
    "            resume=True,\n",
    "            plots=True\n",
    "            )"
   ]
  },
  {
   "cell_type": "code",
   "execution_count": null,
   "metadata": {},
   "outputs": [],
   "source": [
    "model.val(data='/home/thomas/Documents/GitHub/ultralytics-custom/ultralytics/dataset_nov26/data.yaml')"
   ]
  }
 ],
 "metadata": {
  "language_info": {
   "name": "python"
  }
 },
 "nbformat": 4,
 "nbformat_minor": 2
}
